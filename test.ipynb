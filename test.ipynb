{
 "cells": [
  {
   "cell_type": "code",
   "execution_count": 5,
   "metadata": {
    "collapsed": true
   },
   "outputs": [],
   "source": [
    "import torch\n",
    "from torch import Tensor, rand, sigmoid, tanh\n",
    "\n",
    "def gru_cell(\n",
    "        h_t_prev: Tensor,\n",
    "        x_t: Tensor,\n",
    "        cell_size: int\n",
    ") -> Tensor:\n",
    "    input_size = x_t.shape[0]\n",
    "    hidden_size = h_t_prev.shape[0]\n",
    "\n",
    "    # here we define weight matrices for gru cell\n",
    "    W_xu = torch.rand(cell_size, input_size)\n",
    "    W_hu = torch.rand(cell_size, hidden_size)\n",
    "    W_xr = torch.rand(cell_size, input_size)\n",
    "    W_hr = torch.rand(cell_size, hidden_size)\n",
    "    W_xh = torch.rand(cell_size, input_size)\n",
    "    W_hh = torch.rand(cell_size, hidden_size)\n",
    "\n",
    "    # here we define update gate\n",
    "    u_t = sigmoid(W_xu @ x_t + W_hu @ h_t_prev)\n",
    "    # here we update reset_gate\n",
    "    r_t = sigmoid(W_xr @ x_t + W_hr @ h_t_prev)\n",
    "    r_h = r_t * h_t_prev\n",
    "    h_t_0 = tanh(W_xh @ x_t + W_hh @ r_h)\n",
    "    h_t = (1 - u_t) * h_t_0 + u_t * h_t_prev\n",
    "    return h_t"
   ]
  },
  {
   "cell_type": "code",
   "execution_count": 6,
   "outputs": [
    {
     "data": {
      "text/plain": "tensor([[0.2499],\n        [0.2146]])"
     },
     "execution_count": 6,
     "metadata": {},
     "output_type": "execute_result"
    }
   ],
   "source": [
    "input_size, hidden_size, cell_size = 3, 2, 2\n",
    "x_t = torch.rand(input_size, 1)\n",
    "h_t_prev = torch.rand(hidden_size, 1)\n",
    "h_t = gru_cell(h_t_prev=h_t_prev, x_t=x_t, cell_size=cell_size)\n",
    "h_t"
   ],
   "metadata": {
    "collapsed": false,
    "pycharm": {
     "name": "#%%\n"
    }
   }
  },
  {
   "cell_type": "code",
   "execution_count": 21,
   "outputs": [
    {
     "data": {
      "text/plain": "  name  value\n0    a      0\n1    a      1\n2    a      3\n3    b      0\n4    b      0\n5    b      0\n6    c      3\n7    c      1\n8    c      4",
      "text/html": "<div>\n<style scoped>\n    .dataframe tbody tr th:only-of-type {\n        vertical-align: middle;\n    }\n\n    .dataframe tbody tr th {\n        vertical-align: top;\n    }\n\n    .dataframe thead th {\n        text-align: right;\n    }\n</style>\n<table border=\"1\" class=\"dataframe\">\n  <thead>\n    <tr style=\"text-align: right;\">\n      <th></th>\n      <th>name</th>\n      <th>value</th>\n    </tr>\n  </thead>\n  <tbody>\n    <tr>\n      <th>0</th>\n      <td>a</td>\n      <td>0</td>\n    </tr>\n    <tr>\n      <th>1</th>\n      <td>a</td>\n      <td>1</td>\n    </tr>\n    <tr>\n      <th>2</th>\n      <td>a</td>\n      <td>3</td>\n    </tr>\n    <tr>\n      <th>3</th>\n      <td>b</td>\n      <td>0</td>\n    </tr>\n    <tr>\n      <th>4</th>\n      <td>b</td>\n      <td>0</td>\n    </tr>\n    <tr>\n      <th>5</th>\n      <td>b</td>\n      <td>0</td>\n    </tr>\n    <tr>\n      <th>6</th>\n      <td>c</td>\n      <td>3</td>\n    </tr>\n    <tr>\n      <th>7</th>\n      <td>c</td>\n      <td>1</td>\n    </tr>\n    <tr>\n      <th>8</th>\n      <td>c</td>\n      <td>4</td>\n    </tr>\n  </tbody>\n</table>\n</div>"
     },
     "execution_count": 21,
     "metadata": {},
     "output_type": "execute_result"
    }
   ],
   "source": [
    "import pandas as pd\n",
    "import numpy as np\n",
    "\n",
    "df = pd.DataFrame(\n",
    "    {\n",
    "        'name': ['a', 'a', 'a', 'b', 'b', 'b', 'c', 'c', 'c'],\n",
    "        'value': np.array([0, 1, 3, 0, 0, 0, 3, 1, 4])\n",
    "    }\n",
    ")\n",
    "df"
   ],
   "metadata": {
    "collapsed": false,
    "pycharm": {
     "name": "#%%\n"
    }
   }
  },
  {
   "cell_type": "code",
   "execution_count": 22,
   "outputs": [
    {
     "data": {
      "text/plain": "0    0\n1    1\n2    3\n6    3\n7    1\n8    4\nName: value, dtype: int64"
     },
     "execution_count": 22,
     "metadata": {},
     "output_type": "execute_result"
    }
   ],
   "source": [
    "result = df.groupby(by='name')['value'].filter(lambda x: x.mean() > 1)\n",
    "result"
   ],
   "metadata": {
    "collapsed": false,
    "pycharm": {
     "name": "#%%\n"
    }
   }
  },
  {
   "cell_type": "code",
   "execution_count": 23,
   "outputs": [
    {
     "data": {
      "text/plain": "  name  value\n0    a      0\n1    a      1\n2    a      3\n6    c      3\n7    c      1\n8    c      4",
      "text/html": "<div>\n<style scoped>\n    .dataframe tbody tr th:only-of-type {\n        vertical-align: middle;\n    }\n\n    .dataframe tbody tr th {\n        vertical-align: top;\n    }\n\n    .dataframe thead th {\n        text-align: right;\n    }\n</style>\n<table border=\"1\" class=\"dataframe\">\n  <thead>\n    <tr style=\"text-align: right;\">\n      <th></th>\n      <th>name</th>\n      <th>value</th>\n    </tr>\n  </thead>\n  <tbody>\n    <tr>\n      <th>0</th>\n      <td>a</td>\n      <td>0</td>\n    </tr>\n    <tr>\n      <th>1</th>\n      <td>a</td>\n      <td>1</td>\n    </tr>\n    <tr>\n      <th>2</th>\n      <td>a</td>\n      <td>3</td>\n    </tr>\n    <tr>\n      <th>6</th>\n      <td>c</td>\n      <td>3</td>\n    </tr>\n    <tr>\n      <th>7</th>\n      <td>c</td>\n      <td>1</td>\n    </tr>\n    <tr>\n      <th>8</th>\n      <td>c</td>\n      <td>4</td>\n    </tr>\n  </tbody>\n</table>\n</div>"
     },
     "execution_count": 23,
     "metadata": {},
     "output_type": "execute_result"
    }
   ],
   "source": [
    "result = df.join(result, how='right', lsuffix='_old').drop(columns='value_old')\n",
    "result"
   ],
   "metadata": {
    "collapsed": false,
    "pycharm": {
     "name": "#%%\n"
    }
   }
  },
  {
   "cell_type": "code",
   "execution_count": null,
   "outputs": [],
   "source": [],
   "metadata": {
    "collapsed": false,
    "pycharm": {
     "name": "#%%\n"
    }
   }
  }
 ],
 "metadata": {
  "kernelspec": {
   "display_name": "Python 3",
   "language": "python",
   "name": "python3"
  },
  "language_info": {
   "codemirror_mode": {
    "name": "ipython",
    "version": 2
   },
   "file_extension": ".py",
   "mimetype": "text/x-python",
   "name": "python",
   "nbconvert_exporter": "python",
   "pygments_lexer": "ipython2",
   "version": "2.7.6"
  }
 },
 "nbformat": 4,
 "nbformat_minor": 0
}